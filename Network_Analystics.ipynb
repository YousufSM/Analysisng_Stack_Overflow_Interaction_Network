{
 "cells": [
  {
   "cell_type": "markdown",
   "metadata": {
    "ExecuteTime": {
     "end_time": "2019-12-19T22:12:24.816496Z",
     "start_time": "2019-12-19T22:12:24.812916Z"
    }
   },
   "source": [
    "# SMM638 Network Analytics\n",
    "Understanding why and how a link formation takes place in a setting of Stack overflow (SOF) network."
   ]
  },
  {
   "cell_type": "markdown",
   "metadata": {},
   "source": [
    "## I. Data\n",
    "Data for the analysis has been taken from [SNAP website](http://snap.stanford.edu/data/sx-stackoverflow.html) and it consist of 4 DBs, namely, *comments to answers, comments to questions, answer to questions and a master DB* which the compilation of is former 3 DBs. Data consist of 7.6 years of user interaction on Stackoverflow.com."
   ]
  },
  {
   "cell_type": "markdown",
   "metadata": {},
   "source": [
    "Before we move into our analysis, there are few points to note which are as follow.\n",
    "\n",
    "* For the sake of simplicity, *comments to questions and comments to answer* has been concatenated as one database after observing user behaviour on the website.\n",
    "\n",
    "* Due to computational power limitations, some of the high computational analysis has been done only on a subset of data. These subsets were different for different analyses and it has been discussed in the subsequent topics."
   ]
  },
  {
   "cell_type": "markdown",
   "metadata": {},
   "source": [
    "## II. Index"
   ]
  },
  {
   "cell_type": "markdown",
   "metadata": {},
   "source": [
    " 1. **Importing Libraries and Treating Data**\n",
    " 2. **Power Law distribution**\n",
    " 3. **Graph Structure Basis Centrality Measure (Betweenness Centrality**\n",
    " 4. **Calculating Triadic Closure (Graph Transitivity)**\n",
    " 5. **Community Detection** \\\n",
    "\t 5.1 Stochastic Block Model (SBM)\\\n",
    "\t 5.2 Louvain Community Detection\\\n",
    "     5.3 Maximal Clique Calculation\n",
    " 6. **Jaccard Coefficient**\n",
    " 7. **PageRank Algorithm**\n",
    " 8. [**Kossinett-Watts Model**](https://science.sciencemag.org/content/311/5757/88/tab-article-info)\n",
    " 9. **Community Membership as an Influence of Triadic Cloure**"
   ]
  },
  {
   "cell_type": "markdown",
   "metadata": {},
   "source": [
    "## 1. Importing libraries and treating data"
   ]
  },
  {
   "cell_type": "code",
   "execution_count": 1,
   "metadata": {
    "ExecuteTime": {
     "end_time": "2019-12-20T11:36:12.425036Z",
     "start_time": "2019-12-20T11:36:10.786225Z"
    }
   },
   "outputs": [],
   "source": [
    "import gzip\n",
    "import os\n",
    "from datetime import datetime, timedelta\n",
    "import numpy as np\n",
    "import pandas as pd\n",
    "from itertools import chain\n",
    "from itertools import *\n",
    "import matplotlib.pyplot as plt\n",
    "import matplotlib.gridspec as gridspec\n",
    "import networkx as nx\n",
    "import community\n",
    "from graph_tool.all import *"
   ]
  },
  {
   "cell_type": "markdown",
   "metadata": {
    "ExecuteTime": {
     "end_time": "2020-06-28T15:52:57.464365Z",
     "start_time": "2020-06-28T15:52:57.453372Z"
    }
   },
   "source": [
    "Dataframe terminologies \\\n",
    "**master**: All Interaction \\\n",
    "**AQ**: Answer to Question Interaction \\\n",
    "**CQ**: Comment to Question Interaction \\\n",
    "**CA**: Comment to Answer Interaction \\\n",
    "\\\n",
    "For further analysis, dataframes will be categorised as Total Comments interaction and Answer interaction\n"
   ]
  },
  {
   "cell_type": "code",
   "execution_count": 2,
   "metadata": {
    "ExecuteTime": {
     "end_time": "2019-12-20T11:37:03.536200Z",
     "start_time": "2019-12-20T11:36:12.717030Z"
    },
    "collapsed": true
   },
   "outputs": [
    {
     "name": "stdout",
     "output_type": "stream",
     "text": [
      "done\n",
      "done\n",
      "done\n",
      "done\n"
     ]
    }
   ],
   "source": [
    "# Reading the file\n",
    "\n",
    "# Master DB\n",
    "with gzip.open('master.gz','rt') as f:\n",
    "    print('done')\n",
    "    \n",
    "# Reading file into Data Fram\n",
    "master = pd.read_csv('master.gz', compression='gzip', header= None, sep=' ',\n",
    "                names=['src', 'tgt', 'ts'])\n",
    "\n",
    "\n",
    "# A_Q\n",
    "with gzip.open('A_Q.gz','rt') as f:\n",
    "    print('done')\n",
    "    \n",
    "# Reading file into Data Fram\n",
    "AQ = pd.read_csv('A_Q.gz', compression='gzip', header= None, sep=' ',\n",
    "                names=['src', 'tgt', 'ts'])\n",
    "\n",
    "\n",
    "# C_Q\n",
    "with gzip.open('C_Q.gz','rt') as f:\n",
    "    print('done')\n",
    "    \n",
    "# Reading file into Data Fram\n",
    "CQ = pd.read_csv('C_Q.gz', compression='gzip', header= None, sep=' ',\n",
    "                names=['src', 'tgt', 'ts'])\n",
    "\n",
    "\n",
    "# C_A\n",
    "with gzip.open('C_A.gz','rt') as f:\n",
    "    print('done')\n",
    "    \n",
    "# Reading file into Data Fram\n",
    "CA = pd.read_csv('C_A.gz', compression='gzip', header= None, sep=' ',\n",
    "                names=['src', 'tgt', 'ts'])\n"
   ]
  },
  {
   "cell_type": "code",
   "execution_count": 3,
   "metadata": {
    "ExecuteTime": {
     "end_time": "2019-12-20T11:37:03.676072Z",
     "start_time": "2019-12-20T11:37:03.538050Z"
    }
   },
   "outputs": [],
   "source": [
    "Total_Comments = pd.concat([CQ,CA]) # Concatenate both comments DB"
   ]
  },
  {
   "cell_type": "markdown",
   "metadata": {},
   "source": [
    "### Treating DBs so that we can slice them basis time elapsed"
   ]
  },
  {
   "cell_type": "code",
   "execution_count": 5,
   "metadata": {
    "ExecuteTime": {
     "end_time": "2019-12-20T11:37:32.255618Z",
     "start_time": "2019-12-20T11:37:03.682505Z"
    }
   },
   "outputs": [],
   "source": [
    "# Master Dataframe\n",
    "\n",
    "master.loc[:, 'ts'] = pd.to_timedelta(master['ts'], unit='s') # Converting timestamp variable to seconds\n",
    "master = master.sort_values('ts') # sorting basis time\n",
    "firstday = master.iloc[0]['ts'] # First value of 'ts' variable\n",
    "firstday = firstday.days\n",
    "master.loc[:, 'ts'] = master.loc[:, 'ts'] -  timedelta(days=firstday) # Calculating time elapsed since first observation\n",
    "master.loc[:, 'd'] = master['ts'].dt.days # Converting time elapsed since first observation into days\n",
    "master = master.drop(columns = 'ts') # Dropping 'ts' variable"
   ]
  },
  {
   "cell_type": "markdown",
   "metadata": {},
   "source": [
    "Repeating the above step for following three DBs"
   ]
  },
  {
   "cell_type": "code",
   "execution_count": 6,
   "metadata": {
    "ExecuteTime": {
     "end_time": "2019-12-20T11:37:39.035227Z",
     "start_time": "2019-12-20T11:37:32.257403Z"
    }
   },
   "outputs": [],
   "source": [
    "AQ.loc[:, 'ts'] = pd.to_timedelta(AQ['ts'], unit='s')\n",
    "AQ = AQ.sort_values('ts')\n",
    "firstday = AQ.iloc[0]['ts']\n",
    "firstday = firstday.days\n",
    "AQ.loc[:, 'ts'] = AQ.loc[:, 'ts'] -  timedelta(days=firstday) \n",
    "AQ.loc[:, 'd'] = AQ['ts'].dt.days\n",
    "AQ = AQ.drop(columns = 'ts')"
   ]
  },
  {
   "cell_type": "code",
   "execution_count": 7,
   "metadata": {
    "ExecuteTime": {
     "end_time": "2019-12-20T11:37:56.953458Z",
     "start_time": "2019-12-20T11:37:39.037009Z"
    }
   },
   "outputs": [],
   "source": [
    "Total_Comments.loc[:, 'ts'] = pd.to_timedelta(Total_Comments['ts'], unit='s')\n",
    "Total_Comments = Total_Comments.sort_values('ts')\n",
    "firstday = Total_Comments.iloc[0]['ts']\n",
    "firstday = firstday.days\n",
    "Total_Comments.loc[:, 'ts'] = Total_Comments.loc[:, 'ts'] -  timedelta(days=firstday) \n",
    "Total_Comments.loc[:, 'd'] = Total_Comments['ts'].dt.days\n",
    "Total_Comments = Total_Comments.drop(columns = 'ts')"
   ]
  },
  {
   "cell_type": "code",
   "execution_count": 40,
   "metadata": {
    "ExecuteTime": {
     "end_time": "2019-12-19T20:55:37.436304Z",
     "start_time": "2019-12-19T20:55:08.068898Z"
    }
   },
   "outputs": [
    {
     "data": {
      "text/plain": [
       "2114391"
      ]
     },
     "execution_count": 40,
     "metadata": {},
     "output_type": "execute_result"
    }
   ],
   "source": [
    "# Numbers of unique nodes in Total_Comments DB\n",
    "n = list(set(Total_Comments['src'])) # Total unique nodes\n",
    "n.extend(list(set(Total_Comments['tgt']))) # Additional unique nodes that are not in 'src' variabe\n",
    "n = list(set(n))\n",
    "len(n)"
   ]
  },
  {
   "cell_type": "markdown",
   "metadata": {},
   "source": [
    "## 2. Scale Free Network (Power Law Distribution)\n",
    "\n",
    "Power Law is a highly common phenomenon that shows how majority of the portion is owned by minortiy of population.  \\\n",
    "In real world, most of the networks follows a *\"Scale Free Network\"* principle where a few individuals (nodes) highly dominates majority of in-coming and out-going connections. In other words, where degree distribution follows power law. [Here](https://medium.com/@michaeltauberg/power-law-in-popular-media-7d7efef3fb7c) is a great medium article with real life examples.\n"
   ]
  },
  {
   "cell_type": "markdown",
   "metadata": {},
   "source": [
    "\n",
    "\n",
    "Therefore, for our data also, we wanted to examine network structure. We have plotted Power Law distribution in log-log form as plotting the distribution on normal line wouldn't have been possible due to the sheer number of interactions done by very few individuals."
   ]
  },
  {
   "cell_type": "markdown",
   "metadata": {},
   "source": [
    "**Result**\n",
    "\n",
    "By observing both charts, it is evident that the network follows a power law distribution and it is worth observing that the chart follows a steep slope as it moves towards extreme X-axis."
   ]
  },
  {
   "cell_type": "code",
   "execution_count": 4,
   "metadata": {
    "ExecuteTime": {
     "end_time": "2019-12-19T21:39:55.664318Z",
     "start_time": "2019-12-19T21:39:15.238687Z"
    }
   },
   "outputs": [
    {
     "data": {
      "text/plain": [
       "<VertexPropertyMap object with value type 'int64_t', for Graph 0x7f91f98d92b0, at 0x7f91f98d9208>"
      ]
     },
     "execution_count": 4,
     "metadata": {},
     "output_type": "execute_result"
    }
   ],
   "source": [
    "# Preparing DBs for directed graphs\n",
    "\n",
    "# Answer\n",
    "aqusD = Graph(directed=True)\n",
    "aqusD.add_edge_list(AQ.values, hashed = True)\n",
    "\n",
    "# Comments\n",
    "cqusD = Graph(directed=True)\n",
    "cqusD.add_edge_list(Total_Comments.values, hashed = True)"
   ]
  },
  {
   "cell_type": "code",
   "execution_count": 6,
   "metadata": {
    "ExecuteTime": {
     "end_time": "2019-12-19T21:40:06.077964Z",
     "start_time": "2019-12-19T21:40:03.465529Z"
    }
   },
   "outputs": [],
   "source": [
    "# Calculating in degree, out degree and total degree for AQ dataframe\n",
    "in_daq = sorted(aqusD.get_in_degrees(aqusD.get_vertices()) , reverse = True)  # indegree\n",
    "out_daq = sorted(aqusD.get_out_degrees(aqusD.get_vertices()) , reverse = True)  # outdegree\n",
    "total_daq = sorted(aqusD.get_total_degrees(aqusD.get_vertices()) , reverse = True) # degree"
   ]
  },
  {
   "cell_type": "code",
   "execution_count": 5,
   "metadata": {
    "ExecuteTime": {
     "end_time": "2019-12-19T21:40:01.232425Z",
     "start_time": "2019-12-19T21:39:58.660110Z"
    }
   },
   "outputs": [],
   "source": [
    "# Calculating in degree, out degree and total degree for Comments dataframe\n",
    "in_dcq = sorted(cqusD.get_in_degrees(cqusD.get_vertices()) , reverse = True)  # indegree\n",
    "out_dcq = sorted(cqusD.get_out_degrees(cqusD.get_vertices()) , reverse = True)  # outdegree\n",
    "total_dcq =sorted(cqusD.get_total_degrees(cqusD.get_vertices()) , reverse = True) # degree\n"
   ]
  },
  {
   "cell_type": "code",
   "execution_count": 7,
   "metadata": {
    "ExecuteTime": {
     "end_time": "2019-12-19T21:40:33.751099Z",
     "start_time": "2019-12-19T21:40:17.805611Z"
    }
   },
   "outputs": [
    {
     "data": {
      "image/png": "[encoded data removed]",
      "text/plain": [
       "<Figure size 1152x648 with 2 Axes>"
      ]
     },
     "metadata": {
      "needs_background": "light"
     },
     "output_type": "display_data"
    }
   ],
   "source": [
    "# creating figure\n",
    "\n",
    "\n",
    "fig = plt.figure(figsize=(16,9), edgecolor = 'k')\n",
    "palette = plt.get_cmap('Set1')\n",
    "gs = gridspec.GridSpec(1,2, # we want 2 rows, 4 cols\n",
    "                       figure=fig, # this gs applies to figure\n",
    "                       hspace=1, #wspace=0.6, # separation between plots\n",
    "                       width_ratios=[1,1]) # ration between the first and second column\n",
    "                       #height_ratios=[1,1,1,1,1,1]) # ration between the first ans second row\n",
    "fig.suptitle(\"Degree Distribution\", fontsize = 14)\n",
    "\n",
    "\n",
    "# A_Q Plot\n",
    "fig2 = fig.add_subplot(gs[0,0])\n",
    "\n",
    "fig2.loglog(in_daq, color=palette(0), label = 'In Degree', alpha = 0.7, lw = 0.7)\n",
    "fig2.loglog(out_daq, color=palette(1), label = 'Out Degree', alpha = 0.7, lw = 0.7)\n",
    "fig2.loglog(total_daq, color=palette(2), label = 'Total Degree', alpha = 0.7, lw = 0.7)\n",
    "fig2.set_ylabel(r\"$Count$\")\n",
    "fig2.set_xlabel(\"No. of degree\")\n",
    "fig2.legend(loc = \"best\")\n",
    "fig2.set_title(\"Answer to Question\", color = 'k', fontsize = 12)\n",
    "#fig2.yaxis.tick_right()\n",
    "#fig2.yaxis.set_label_position(\"right\")\n",
    "\n",
    "# C_A Plot\n",
    "fig3 = fig.add_subplot(gs[0,1])\n",
    "\n",
    "fig3.loglog(in_dcq, color=palette(0), label = 'In Degree', alpha = 0.7, lw = 0.7)\n",
    "fig3.loglog(out_dcq, color=palette(1), label = 'Out Degree', alpha = 0.7, lw = 0.7)\n",
    "fig3.loglog(total_dcq, color=palette(2), label = 'Total Degree', alpha = 0.7, lw = 0.7)\n",
    "fig3.set_ylabel(r\"$Count$\")\n",
    "fig3.set_xlabel(\"No. of degree\")\n",
    "fig3.legend(loc = \"best\")\n",
    "fig3.set_title(\"Comment to Question/Answer\", color = 'k', fontsize = 12)\n",
    "\n",
    "\n",
    "#plt.savefig(\"Degree_Distribution.png\", facecolor='white')\n",
    "plt.show()\n",
    "plt.close()"
   ]
  },
  {
   "cell_type": "markdown",
   "metadata": {},
   "source": [
    "## 3. Graph Structure Basis Centrality Measure\n",
    "We have used Betweenness Centrality as the measurement of Centrality and have made an attempt to visualise it. \n",
    "> _Betweenness centrality quantifies how many times a node comes in the shortest chosen path between two other nodes._ [Source](https://en.wikipedia.org/wiki/Centrality#:~:text=Betweenness%20centrality%20quantifies%20the%20number,path%20between%20two%20other%20nodes.)\n",
    "\n",
    "In other words, it calculates how important a node is not based on degree distribution but based on its criticality of joining two clusters."
   ]
  },
  {
   "cell_type": "markdown",
   "metadata": {},
   "source": [
    "**Result**\n",
    "\n",
    "As we can observed from both the graphs, there are only 10-15 nodes that are clearly emerging out that demonstrates that the network can be divided into clusters that are being connected by very few individuals. These individuals can be thought of as information passers. *Breaking any of those nodes will break the graph into parts.*\n"
   ]
  },
  {
   "cell_type": "markdown",
   "metadata": {},
   "source": [
    "**Note**\n",
    "\n",
    "- *Data had been deliberately set to a very low alpha with small size to showcase important nodes out of ~24000 nodes.*\n",
    "- *We have only taken into consideration the interactions of first 100 days due to computational limitation of our machine*"
   ]
  },
  {
   "cell_type": "markdown",
   "metadata": {},
   "source": [
    "Useful Article: [The 5 Graph Algorithms that you should know (5th Point)](https://towardsdatascience.com/data-scientists-the-five-graph-algorithms-that-you-should-know-30f454fa5513)"
   ]
  },
  {
   "cell_type": "code",
   "execution_count": 18,
   "metadata": {
    "ExecuteTime": {
     "end_time": "2019-12-20T09:06:40.070252Z",
     "start_time": "2019-12-20T09:06:39.925867Z"
    }
   },
   "outputs": [],
   "source": [
    "# Slicing data by initial 100 days\n",
    "master100 = master[master['d'] < 100]\n",
    "AQ100 = AQ[AQ['d'] < 100]\n",
    "Total_Comments100 = Total_Comments[Total_Comments['d'] < 100]"
   ]
  },
  {
   "cell_type": "code",
   "execution_count": 29,
   "metadata": {
    "ExecuteTime": {
     "end_time": "2019-12-19T22:49:07.955637Z",
     "start_time": "2019-12-19T22:49:07.885448Z"
    }
   },
   "outputs": [
    {
     "name": "stdout",
     "output_type": "stream",
     "text": [
      "No. of nodes in Answer Data: 14375\n",
      "No. of edges in Answer Data: 135740\n",
      "No. of nodes in Comments Data: 9827\n",
      "No. of dges in Comments Data: 74667\n"
     ]
    }
   ],
   "source": [
    "# Calculating total number of unique nodes in Answers and Comments data\n",
    "\n",
    "n = list(set(AQ100['src']))\n",
    "n.extend(list(set(AQ100['tgt'])))\n",
    "n = list(set(n))\n",
    "m = AQ100.shape\n",
    "print(\"No. of nodes in Answer Data:\", len(n))\n",
    "print(\"No. of edges in Answer Data:\", m[0])\n",
    "\n",
    "n = list(set(Total_Comments100['src']))\n",
    "n.extend(list(set(Total_Comments100['tgt'])))\n",
    "n = list(set(n))\n",
    "m = Total_Comments100.shape\n",
    "print(\"No. of nodes in Comments Data:\", len(n))\n",
    "print(\"No. of dges in Comments Data:\", m[0])"
   ]
  },
  {
   "cell_type": "code",
   "execution_count": 19,
   "metadata": {
    "ExecuteTime": {
     "end_time": "2019-12-20T09:14:19.996350Z",
     "start_time": "2019-12-20T09:07:10.823419Z"
    }
   },
   "outputs": [],
   "source": [
    "# Creating Networkx Di-Graph \n",
    "Master_G = nx.from_pandas_edgelist(master100,source='src', target='tgt' , create_using=nx.DiGraph())\n",
    "\n",
    "# Calculating Betweenness Centrality for Master Data\n",
    "betweennessCentralityMaster = nx.betweenness_centrality(Master_G,normalized=True, endpoints=True)\n",
    "\n",
    "# # Calculating Betweenness Centrality for Answer Data\n",
    "# betweennessCentralityQA = nx.betweenness_centrality(AQG,normalized=True, endpoints=True)"
   ]
  },
  {
   "cell_type": "markdown",
   "metadata": {},
   "source": [
    "#### Plotting Network Graph\n",
    "Graph has been deliberately dimmed to highlight impact of few nodes (in blue color in the center) out of 20,000 nodes.\\\n",
    "Visualisation could have been improved with better computational power."
   ]
  },
  {
   "cell_type": "code",
   "execution_count": null,
   "metadata": {
    "ExecuteTime": {
     "start_time": "2019-12-20T08:40:25.989Z"
    }
   },
   "outputs": [],
   "source": [
    "# Plotting Network Structure for Comments Data\n",
    "pos = nx.spring_layout(Master_G)\n",
    "node_size =  [v * 10000 for v in betweennessCentralityMaster.values()]\n",
    "plt.figure(figsize=(80,80))\n",
    "plt.suptitle(\"Network Structure for Comments Data \\n(size of nodes represents betweenness centrality)\", fontsize = 53)\n",
    "nx.draw_networkx(Total_CommentsG, pos=pos, with_labels=False, edge_color = 'white',\n",
    "                 node_size=node_size, alpha = 0.7 )\n",
    "plt.axis('off')"
   ]
  },
  {
   "cell_type": "markdown",
   "metadata": {},
   "source": [
    "## 4. Calculating Triadic Closure (Graph Transitivity)\n",
    "Transitivity of a relation means that when there is a tie from i to j, and also from j to h, then there is also a tie from i to h.\\\n",
    "*friends of my friends are my friends.* [Source](http://www.stats.ox.ac.uk/~snijders/Trans_Triads_ha.pdf) \\\n",
    "NetworkX package compute graph transitivity, as the fraction of all possible triangles present in G. Possible triangles are identified by the number of “triads” (two edges with a shared vertex).\n"
   ]
  },
  {
   "cell_type": "markdown",
   "metadata": {},
   "source": [
    "**Result**\n",
    "\n",
    "For the *Answers* data we observed transitivity of 0.0138 (1.38%) and for *Comments * data transitivity of 0.0273 (2.73%).\\\n",
    "\\\n",
    "These figures indicate a linear graph rather than a closed one, where only 1%-3% chances are that a network of three connected nodes will emerged as a closed triangle network. But value of transitivity here do not provide any insights until they are analysed comparatively to other graphs"
   ]
  },
  {
   "cell_type": "code",
   "execution_count": null,
   "metadata": {},
   "outputs": [],
   "source": [
    "# Undirected Networkx graph for initital 1000 days\n",
    "\n",
    "aqU = nx.from_pandas_edgelist(AQ,source='src', target='tgt') # Answer\n",
    "cqU = nx.from_pandas_edgelist(Total_Comments,source='src', target='tgt') # Comment"
   ]
  },
  {
   "cell_type": "code",
   "execution_count": 11,
   "metadata": {
    "ExecuteTime": {
     "end_time": "2019-12-18T20:26:02.158273Z",
     "start_time": "2019-12-18T20:13:00.946744Z"
    }
   },
   "outputs": [
    {
     "data": {
      "text/plain": [
       "0.013749656698411633"
      ]
     },
     "execution_count": 11,
     "metadata": {},
     "output_type": "execute_result"
    }
   ],
   "source": [
    "# Transitivity of Answers graph for the initital 1000 days (2.7 Years)\n",
    "triadic_closure_A = nx.transitivity(aqU)\n",
    "triadic_closure_A"
   ]
  },
  {
   "cell_type": "code",
   "execution_count": 13,
   "metadata": {
    "ExecuteTime": {
     "end_time": "2019-12-18T20:45:46.661931Z",
     "start_time": "2019-12-18T20:28:00.086481Z"
    }
   },
   "outputs": [
    {
     "data": {
      "text/plain": [
       "0.02728490139179447"
      ]
     },
     "execution_count": 13,
     "metadata": {},
     "output_type": "execute_result"
    }
   ],
   "source": [
    "# Transitivity of Comment graph for the initital 1000 days (2.7 Years)\n",
    "triadic_closure_CQ = nx.transitivity(cqU)\n",
    "triadic_closure_CQ"
   ]
  },
  {
   "cell_type": "markdown",
   "metadata": {},
   "source": [
    "## 5. Community Detection\n",
    "Stackoverflow is a network of programmers and developers thus it gives us an intuition that there should be small clusters of communities dedicated to one large topic (such as Java, Python) and then sub-clusters (Python: Matplotlib, Bokeh) among that topic. Detecting a community can give us a direction to identify why a certain node connects with the other nodes.\n"
   ]
  },
  {
   "cell_type": "markdown",
   "metadata": {},
   "source": [
    "Detecting a community is not straight forward and there are different algorithms to identify communities in a network. For our case, we have implemented three major algorithm which we will discuss below.\n"
   ]
  },
  {
   "cell_type": "markdown",
   "metadata": {},
   "source": [
    "\n",
    "We have run all the community detection algorithm on *Undirected graphs* after reviewing documentations from NetworkX and Graph tool webpages."
   ]
  },
  {
   "cell_type": "markdown",
   "metadata": {},
   "source": [
    "### 5.1 Stochastic Block Model (SBM)\n",
    "The stochastic block model assumes that nodes that belong to the same group have the same probability of connecting to the rest of the network. Hence, nodes that get classified in the same group by the function have similar connectivity patterns."
   ]
  },
  {
   "cell_type": "markdown",
   "metadata": {},
   "source": [
    "In our example, we have calculated both minimised nested block model and minimised blockmodel. In minimised nested block model, we get level wise communities. For example, at base level, we can have 1000 (e.g. Bokeh, Pandas) communities while at level 1 these communities will merge into larger communities (e.g. Python, Java) and then we might get only 50 communities and so on."
   ]
  },
  {
   "cell_type": "markdown",
   "metadata": {},
   "source": [
    "For our network, *minimised nested block model* was the ideal choice because firstly, as discussed above Stackoverflow follows principle of communities, sub communities and sub-sub communities and so on. Secondly, while testing our model on subset of data, we get a comparatively lower entropy for minimised nested block model."
   ]
  },
  {
   "cell_type": "markdown",
   "metadata": {},
   "source": [
    "Entropy indicates Minimum Description Length which is\n",
    "\n",
    "> measurement of the amount of information required to describe the data, if we encode it using the parametrization of the generative model. [Source](https://graph-tool.skewed.de/static/doc/demos/inference/inference.html)"
   ]
  },
  {
   "cell_type": "markdown",
   "metadata": {},
   "source": [
    "**Result**\n",
    "\n",
    "The minimised nested block model gave us 811 sub-sub communities, 93 sub-communities and 11 communities. While non nested block model gave us the value of 230 total communities.\n",
    "\n",
    "Intuitively, these values make sense and indicates that there are 811 communities that can be related to different libraries which are followed by 93 and 11 super communities.\n"
   ]
  },
  {
   "cell_type": "markdown",
   "metadata": {},
   "source": [
    "*Due to computational limit in visualising such a large network, the community detection graph is not actually readable but in future, it may be optimised through the use of Gephi Software. \n",
    "Also, due to high cluttering and size (60 Mbs) the chart has not been included in the result_png folder*"
   ]
  },
  {
   "cell_type": "markdown",
   "metadata": {
    "ExecuteTime": {
     "end_time": "2020-06-29T09:45:55.926138Z",
     "start_time": "2020-06-29T09:45:55.909150Z"
    }
   },
   "source": [
    "Useful Article: [Graph-Tool documentation page](https://graph-tool.skewed.de/static/doc/demos/inference/inference.html)"
   ]
  },
  {
   "cell_type": "code",
   "execution_count": 15,
   "metadata": {
    "ExecuteTime": {
     "end_time": "2019-12-19T16:19:14.434055Z",
     "start_time": "2019-12-19T16:19:05.898994Z"
    }
   },
   "outputs": [
    {
     "data": {
      "text/plain": [
       "<VertexPropertyMap object with value type 'int64_t', for Graph 0x7ff08a2246d8, at 0x7ff08a224cc0>"
      ]
     },
     "execution_count": 15,
     "metadata": {},
     "output_type": "execute_result"
    }
   ],
   "source": [
    "# Preparing graph tool unidrected graph for master data\n",
    "\n",
    "musG = Graph(directed=False)\n",
    "musG.add_edge_list(master.values, hashed = True)"
   ]
  },
  {
   "cell_type": "code",
   "execution_count": 16,
   "metadata": {
    "ExecuteTime": {
     "end_time": "2019-12-19T16:27:36.939447Z",
     "start_time": "2019-12-19T16:19:20.112683Z"
    }
   },
   "outputs": [],
   "source": [
    "# Test between degree-corrected and non-degree-corrected fit to get better entropy (Smaller the better)\n",
    "\n",
    "state_dc  = minimize_nested_blockmodel_dl(musG, deg_corr=True)"
   ]
  },
  {
   "cell_type": "code",
   "execution_count": 18,
   "metadata": {
    "ExecuteTime": {
     "end_time": "2019-12-19T16:41:39.425400Z",
     "start_time": "2019-12-19T16:41:39.396044Z"
    }
   },
   "outputs": [
    {
     "name": "stdout",
     "output_type": "stream",
     "text": [
      "Degree-corrected DL:\t 1058770.8378112807\n"
     ]
    }
   ],
   "source": [
    "# Entropy for nested block model degree correlated graph\n",
    "print(\"Degree-corrected DL:\\t\", state_dc.entropy())"
   ]
  },
  {
   "cell_type": "code",
   "execution_count": 22,
   "metadata": {
    "ExecuteTime": {
     "end_time": "2019-12-19T16:54:37.777311Z",
     "start_time": "2019-12-19T16:51:39.120897Z"
    },
    "scrolled": true
   },
   "outputs": [
    {
     "name": "stdout",
     "output_type": "stream",
     "text": [
      "Non-degree-corrected DL:\t 1076092.2934778042\n"
     ]
    }
   ],
   "source": [
    "# Community detection through simple blockmodel and calculating its entropy\n",
    "state = minimize_blockmodel_dl(musG)\n",
    "print(\"Non-degree-corrected DL:\\t\", state.entropy())"
   ]
  },
  {
   "cell_type": "code",
   "execution_count": 17,
   "metadata": {
    "ExecuteTime": {
     "end_time": "2019-12-19T16:41:19.652498Z",
     "start_time": "2019-12-19T16:41:19.480543Z"
    }
   },
   "outputs": [
    {
     "data": {
      "text/plain": [
       "<bound method NestedBlockState.entropy of <NestedBlockState object, with base <BlockState object with 811 blocks (811 nonempty), degree-corrected, for graph <Graph object, undirected, with 14405 vertices and 210407 edges at 0x7ff08a2246d8>, at 0x7ff0d01e7ac8>, and 4 levels of sizes [(14405, 811), (811, 93), (93, 11), (11, 1)] at 0x7ff08a210dd8>>"
      ]
     },
     "execution_count": 17,
     "metadata": {},
     "output_type": "execute_result"
    }
   ],
   "source": [
    "# Summary of nested degree correlated algorithm\n",
    "\n",
    "state_dc.entropy\n",
    "\n",
    "# It has identifies 811 level 0 community and 93 level 1 communities"
   ]
  },
  {
   "cell_type": "code",
   "execution_count": 25,
   "metadata": {
    "ExecuteTime": {
     "end_time": "2019-12-19T17:05:19.238208Z",
     "start_time": "2019-12-19T17:05:19.228955Z"
    }
   },
   "outputs": [
    {
     "data": {
      "text/plain": [
       "<bound method BlockState.entropy of <BlockState object with 230 blocks (230 nonempty), degree-corrected, for graph <Graph object, undirected, with 14405 vertices and 210407 edges at 0x7ff08a2246d8>, at 0x7ff08a220048>>"
      ]
     },
     "execution_count": 25,
     "metadata": {},
     "output_type": "execute_result"
    }
   ],
   "source": [
    "# Summary of basic community detection algorithm\n",
    "\n",
    "state.entropy\n",
    "\n",
    "# It has identfies 230 communities"
   ]
  },
  {
   "cell_type": "code",
   "execution_count": null,
   "metadata": {},
   "outputs": [],
   "source": [
    "# Plotting community chart ested degree correlated algorithm (811 communities (state_dc.entropy))\n",
    "\n",
    "state_dc.draw(output_size = (10000,10000))"
   ]
  },
  {
   "cell_type": "code",
   "execution_count": null,
   "metadata": {},
   "outputs": [],
   "source": [
    "# plotting community detection through simple blockmodel\n",
    "state.draw(output_size = (1200,1200))"
   ]
  },
  {
   "cell_type": "markdown",
   "metadata": {},
   "source": [
    "By observing the nested block model diagram, one can comprehend that there is some dense communication between nodes of different communities."
   ]
  },
  {
   "cell_type": "markdown",
   "metadata": {},
   "source": [
    "And this, motivates us to understand how different the communication is among the nodes within and outside communities and thus this leads us to Louvain Algorithm where we can calculate the modularity."
   ]
  },
  {
   "cell_type": "markdown",
   "metadata": {},
   "source": [
    "### 5.2 Community detection through Louvain Algorithm "
   ]
  },
  {
   "cell_type": "markdown",
   "metadata": {},
   "source": [
    "> Modularity is a metric that quantifies the quality of an assignment of nodes to communities by evaluating how much more densely connected the nodes within a community are compared to how connected they would be, on average, in a suitably defined random network. The Louvain method of community detection is an algorithm for detecting communities in networks that relies upon a heuristic for maximizing the modularity. The method consists of repeated application of two steps. The first step is a \"greedy\" assignment of nodes to communities, favouring local optimizations of modularity. The second step is the definition of a new coarse-grained network in terms of the communities found in the first step. These two steps are repeated until no further modularity-increasing reassignments of communities are possible. [Source](https://books.google.co.uk/books?id=WaNsDwAAQBAJ&pg=PA800&lpg=PA800&dq=Modularity+is+a+metric+that+quantifies+the+quality+of+an+assignment+of+nodes+to+communities+by+evaluating+how+much+more+densely+connected+the+nodes+within+a+community+are+compared+to+how+connected+they+would+be,+on+average,+in+a+suitably+defined+random+network.&source=bl&ots=5cx7CAARBW&sig=ACfU3U2BFT5ib0KITy2RUhm18rz3RVY9mQ&hl=en&sa=X&ved=2ahUKEwj3yuWW9KbqAhXhnFwKHUVUB5kQ6AEwAHoECAoQAQ#v=onepage&q=Modularity%20is%20a%20metric%20that%20quantifies%20the%20quality%20of%20an%20assignment%20of%20nodes%20to%20communities%20by%20evaluating%20how%20much%20more%20densely%20connected%20the%20nodes%20within%20a%20community%20are%20compared%20to%20how%20connected%20they%20would%20be%2C%20on%20average%2C%20in%20a%20suitably%20defined%20random%20network.&f=false)\n",
    "\n",
    "In other words, Louvain algorithm works on to and fro method until it reaches the maximum modularity value of a network where Modularity is the metric of quantifying densely connected nodes within the community compared to random network. \\\n",
    "Modularity takes the highest value of 1."
   ]
  },
  {
   "cell_type": "markdown",
   "metadata": {},
   "source": [
    "**Results:**\n",
    "\n",
    "The algorithm yields modularity of 0.32 and detected 68 communities (which is closer to nested block model level 1 communities). The modularity signifies that there are some dense edges between nodes of two different communities. The value of modularity also signifies the importance of betweenness centrality where if the network has the high modularity it will have very few nodes with significant centrality scores.\n"
   ]
  },
  {
   "cell_type": "markdown",
   "metadata": {},
   "source": [
    "Useful article: [Network Analysis and Community Structure for Market Surveillance using Python/NetworkX](https://medium.com/@adityagandhi.7/network-analysis-and-community-structure-for-market-surveillance-using-python-networkx-65413e7b7fee)"
   ]
  },
  {
   "cell_type": "code",
   "execution_count": 23,
   "metadata": {
    "ExecuteTime": {
     "end_time": "2019-12-20T09:17:02.346604Z",
     "start_time": "2019-12-20T09:17:01.907633Z"
    }
   },
   "outputs": [],
   "source": [
    "# Preparing DBs for unidrected graphs\n",
    "\n",
    "mUs = nx.from_pandas_edgelist(master100,source='src', target='tgt')\n",
    "\n",
    "# Starting with an initial partition of the graph and running the Louvain algorithm for Community Detection\n",
    "partition=community.best_partition(mUs)\n",
    "values=[partition.get(node) for node in mUs.nodes()]\n",
    "list_com=partition.values()\n",
    "\n",
    "\n",
    "\n",
    "# Creating a dictionary like {community_number:list_of_participants}\n",
    "dict_nodes={}\n",
    "\n",
    "# Populating the dictionary with items\n",
    "for each_item in partition.items():\n",
    "    community_num=each_item[1]\n",
    "    community_node=each_item[0]\n",
    "    if community_num in dict_nodes:\n",
    "        value=dict_nodes.get(community_num) , ' | ' , str(community_node)\n",
    "        dict_nodes.update({community_num:value})\n",
    "    else:\n",
    "        dict_nodes.update({community_num:community_node})\n",
    "\n",
    "#community_df=pd.DataFrame.from_dict(dict_nodes, orient='index',columns=['Members'])"
   ]
  },
  {
   "cell_type": "code",
   "execution_count": 25,
   "metadata": {
    "ExecuteTime": {
     "end_time": "2019-12-20T09:17:57.213812Z",
     "start_time": "2019-12-20T09:17:56.665273Z"
    }
   },
   "outputs": [
    {
     "name": "stdout",
     "output_type": "stream",
     "text": [
      "Modularity:  0.3214439292149875\n",
      "Total number of Communities= 68\n"
     ]
    }
   ],
   "source": [
    "G_comm=nx.Graph()\n",
    "# Populating the data from the node dictionary created earlier\n",
    "G_comm.add_nodes_from(dict_nodes)\n",
    "# Calculating modularity and the total number of communities\n",
    "mod=community.modularity(partition,mUs)\n",
    "print(\"Modularity: \", mod)\n",
    "print(\"Total number of Communities=\", len(G_comm.nodes()))"
   ]
  },
  {
   "cell_type": "code",
   "execution_count": null,
   "metadata": {},
   "outputs": [],
   "source": [
    "# If we want to plot the community graph, which we currently cannot due to very long time taken by the alogrithm\n",
    "\n",
    "#import matplotlib.colors as mcolors\n",
    "#matplotlib.rcParams['figure.figsize']= [12, 8]\n",
    "#pos = nx.spring_layout(G_comm)\n",
    "#nx.draw_networkx(G_comm, pos, cmap=plt.get_cmap('magma'), node_color=values,node_size=1, with_labels=False, alpha = 0.5)\n",
    "#plt.suptitle('Community structure using Louvain Algorithm (actual nodes))',fontsize=22,fontname='Arial')\n",
    "#plt.box(on=None)\n",
    "#plt.axis('off')\n",
    "#plt.savefig('louvain.png',dpi=400, bbox_inches='tight')\n",
    "#plt.show()"
   ]
  },
  {
   "cell_type": "markdown",
   "metadata": {},
   "source": [
    "### 5.3 Maximal Clique Calculation\n",
    "\n",
    "Maximal cliques identify the clique’s structure of the network. The main advantage of this algorithm is that it is possible for one node to be identifies in more than 1 cliques depending on the connections. For each node _v_, a clique for v_ is the complete subgraph containing _v.\n"
   ]
  },
  {
   "cell_type": "markdown",
   "metadata": {},
   "source": [
    "**Result:**\n",
    "\n",
    "While running on the condition of cliques having equal to or more than 10 nodes, the algorithm return the value of 15 communities while for the condition of equal to or more than 8 nodes, the algorithm return 654 communities. These result show that most of the communities are formed among a small number of nodes.\n",
    "\n",
    "While running the graph for cliques having more than 7 nodes, an interesting fact appears. By observing the graph, we can see that those 654 communities are largely divided into two clusters and there lies nodes that connects both clusters. This observation is made up on just initial 100 days of data with communities having more than 7 nodes. Provided we had larger computation power we could have seen some very fascinating result basis the above observation.\n"
   ]
  },
  {
   "cell_type": "code",
   "execution_count": 26,
   "metadata": {
    "ExecuteTime": {
     "end_time": "2019-12-20T09:19:04.835058Z",
     "start_time": "2019-12-20T09:19:02.699910Z"
    }
   },
   "outputs": [
    {
     "name": "stdout",
     "output_type": "stream",
     "text": [
      "Total number of communities:  15\n"
     ]
    }
   ],
   "source": [
    "# Finidng cliques with more than 9 nodes\n",
    "\n",
    "a=nx.find_cliques(mUs)\n",
    "i=0\n",
    "\n",
    "for clique in a:\n",
    "    if len(clique)>=10:\n",
    "        i+=1\n",
    "\n",
    "total_comm_max_cl=i\n",
    "print('Total number of communities: ',total_comm_max_cl)"
   ]
  },
  {
   "cell_type": "code",
   "execution_count": 37,
   "metadata": {
    "ExecuteTime": {
     "end_time": "2019-12-19T18:43:40.809169Z",
     "start_time": "2019-12-19T18:43:39.031728Z"
    }
   },
   "outputs": [
    {
     "name": "stdout",
     "output_type": "stream",
     "text": [
      "Total number of communities:  654\n"
     ]
    }
   ],
   "source": [
    "# Finidng cliques with more than 7 nodes\n",
    "\n",
    "a=nx.find_cliques(mUs)\n",
    "i=0\n",
    "\n",
    "# For each clique, print the members and also print the total number of communities\n",
    "for clique in a:\n",
    "    if len(clique)>=8:\n",
    "        i+=1\n",
    "\n",
    "total_comm_max_cl=i\n",
    "print('Total number of communities: ',total_comm_max_cl)"
   ]
  },
  {
   "cell_type": "code",
   "execution_count": null,
   "metadata": {},
   "outputs": [],
   "source": [
    "# Plotting Cliques with more than 7 nodes\n",
    "\n",
    "from math import *\n",
    "import itertools as it\n",
    "import matplotlib.patches as mpatches\n",
    "\n",
    "\n",
    "# Defining a circle that can be drawn around each community\n",
    "def draw_circle_around_clique(clique,coords):\n",
    "    dist=0\n",
    "    temp_dist=0\n",
    "    center=[0 for i in range(2)]\n",
    "    color=next(colors)\n",
    "    for a in clique:\n",
    "        for b in clique:\n",
    "            temp_dist=(coords[a][0]-coords[b][0])**2+(coords[a][1]-coords[b][1])**2\n",
    "            if temp_dist>dist:\n",
    "                dist=temp_dist\n",
    "                for i in range(2):\n",
    "                    center[i]=(coords[a][i]+coords[b][i])/2\n",
    "    rad=dist**0.5/2\n",
    "    cir=plt.Circle((center[0],center[1]),radius=rad*1.3,fill=False,color=color)\n",
    "    plt.gca().add_patch(cir)\n",
    "    plt.axis('scaled')\n",
    "    return color\n",
    "\n",
    "# Setting a cycle of colors,\n",
    "global colors, hatches\n",
    "colors=it.cycle('b')\n",
    "# \n",
    "pos=nx.spring_layout(mUs)\n",
    "cliques=[clique for clique in nx.find_cliques(mUs) if len(clique)>=8]\n",
    "\n",
    "# Draw the graph\n",
    "#nx.draw_networkx(mUs,pos, node_size=3, with_labels=False, node_color = 'red')\n",
    "for clique in cliques:\n",
    "    nx.draw_networkx_nodes(mUs,pos,nodelist=clique,node_color=draw_circle_around_clique(clique,pos),node_size=1, alpha=0.3)\n",
    "plt.suptitle('Community Structure (Maximal Clique Calculation)',fontsize=22, fontname='Arial')\n",
    "plt.box(on=None)\n",
    "plt.axis('off')\n",
    "         \n",
    "#red_patch=mpatches.Patch(color='r', label='Nodes')\n",
    "#blue_patch = plt.Circle(color='b', label='Overlapping Communities', fill=False)\n",
    "\n",
    "red_patch=plt.Line2D([],[], color=\"red\", marker='o', markerfacecolor=\"red\",label='Nodes')\n",
    "blue_patch=plt.Line2D([],[], color=\"blue\", marker='o', markerfacecolor='white',label='Overlapping Communities')\n",
    "black_patch=plt.Line2D([],[], color=\"black\",label='Graph Edge')\n",
    "plt.legend(handles=[red_patch,blue_patch, black_patch],bbox_to_anchor=(0,1), loc='best', ncol=1)\n",
    "#plt.savefig('Cliques.png',dpi=400, bbox_inches='tight')\n",
    "plt.show()"
   ]
  },
  {
   "cell_type": "markdown",
   "metadata": {},
   "source": [
    "## Predicting Link Formation\n",
    "From the business perspective, it is very crucial to understand how shared connections lead to new connections.\n",
    "\n",
    "For our project, we have tried predicting link formation basis the Jaccard Coefficient and PageRank Algorithm.\n"
   ]
  },
  {
   "cell_type": "markdown",
   "metadata": {},
   "source": [
    "\n",
    "**Data**\n",
    "\n",
    "Data for both the algorithm has been taken from initial 1000 days (2.7 years) of interaction that had 351,000 nodes and 8.3 Million edges.\n",
    "\n",
    "For the analysis, data has been divided into two part, one with initial 500 days of data (test) and other with next 500 days of data (train)."
   ]
  },
  {
   "cell_type": "markdown",
   "metadata": {},
   "source": [
    "## 6. Jaccard Coefficient\n",
    "> The **Jaccard index** is a statistic used for gauging the similarity and diversity of sample sets. The Jaccard coefficient measures similarity between finite sample sets, and is defined as the size of the intersection divided by the size of the union of the sample sets. [Source](https://en.wikipedia.org/wiki/Jaccard_index)\n",
    "\n",
    "In other words, Jaccard index quantify the similarity of two nodes while also considering its neighbour nodes."
   ]
  },
  {
   "cell_type": "markdown",
   "metadata": {},
   "source": [
    "**Result**\n",
    "\n",
    "We had assumed that the Jaccard index will have a direction relation to the probability of connection of the nodes, but by observing the result we <u> couldn't prove the relation of similarity over link formation</u>.\n",
    "\n",
    "One point to note is, this data is only for one-time frame (500-1000 days) and it would be interesting to run the algorithm on whole data to see if we get any insights."
   ]
  },
  {
   "cell_type": "code",
   "execution_count": 27,
   "metadata": {
    "ExecuteTime": {
     "end_time": "2019-12-20T09:20:49.709243Z",
     "start_time": "2019-12-20T09:20:49.433251Z"
    }
   },
   "outputs": [],
   "source": [
    "master1000 = master[master['d'] < 1000]"
   ]
  },
  {
   "cell_type": "code",
   "execution_count": 29,
   "metadata": {
    "ExecuteTime": {
     "end_time": "2019-12-20T09:21:03.554026Z",
     "start_time": "2019-12-20T09:21:03.193841Z"
    }
   },
   "outputs": [],
   "source": [
    "JCI = master1000.copy()\n",
    "\n",
    "test = JCI[JCI['d'] <500]\n",
    "test = test.drop(columns = 'd')\n",
    "test = test[test['src'] != test['tgt']]\n",
    "\n",
    "train = JCI[JCI['d'] >= 500]\n",
    "train = train.drop(columns = 'd')\n",
    "train = train[train['src'] != train['tgt']]"
   ]
  },
  {
   "cell_type": "code",
   "execution_count": 30,
   "metadata": {
    "ExecuteTime": {
     "end_time": "2019-12-20T09:21:15.790139Z",
     "start_time": "2019-12-20T09:21:10.652100Z"
    }
   },
   "outputs": [],
   "source": [
    "JCG = nx.from_pandas_edgelist(test,source='src', target='tgt')"
   ]
  },
  {
   "cell_type": "code",
   "execution_count": 31,
   "metadata": {
    "ExecuteTime": {
     "end_time": "2019-12-20T09:38:55.137526Z",
     "start_time": "2019-12-20T09:21:35.955888Z"
    }
   },
   "outputs": [],
   "source": [
    "f = list(nx.jaccard_coefficient(JCG, JCG.edges))"
   ]
  },
  {
   "cell_type": "code",
   "execution_count": 32,
   "metadata": {
    "ExecuteTime": {
     "end_time": "2019-12-20T09:39:58.716836Z",
     "start_time": "2019-12-20T09:39:57.760036Z"
    }
   },
   "outputs": [],
   "source": [
    "# Creating dataframe with J-I values\n",
    "JC = pd.DataFrame(f, columns = ['src', 'tgt', 'J_C'])"
   ]
  },
  {
   "cell_type": "code",
   "execution_count": 33,
   "metadata": {
    "ExecuteTime": {
     "end_time": "2019-12-20T09:40:02.704397Z",
     "start_time": "2019-12-20T09:40:00.577617Z"
    },
    "scrolled": true
   },
   "outputs": [],
   "source": [
    "# Using set so that two set of nodes should be identified as one\n",
    "\n",
    "focal, alter = [], []\n",
    "\n",
    "for i, j in zip(JC['src'], JC['tgt']):\n",
    "    dyad = list(set([i, j]))\n",
    "    focal.append(dyad[0])\n",
    "    alter.append(dyad[1])\n",
    "\n",
    "\n",
    "JC.loc[:, 'src'] = focal\n",
    "JC.loc[:, 'tgt'] = alter\n",
    "\n",
    "del (focal, alter)"
   ]
  },
  {
   "cell_type": "code",
   "execution_count": 34,
   "metadata": {
    "ExecuteTime": {
     "end_time": "2019-12-20T09:40:04.521371Z",
     "start_time": "2019-12-20T09:40:04.510572Z"
    }
   },
   "outputs": [],
   "source": [
    "# Train dataset\n",
    "train_JC = train.copy()"
   ]
  },
  {
   "cell_type": "code",
   "execution_count": 35,
   "metadata": {
    "ExecuteTime": {
     "end_time": "2019-12-20T09:40:14.716502Z",
     "start_time": "2019-12-20T09:40:06.162957Z"
    }
   },
   "outputs": [],
   "source": [
    "\n",
    "focal, alter = [], []\n",
    "\n",
    "for i, j in zip(train_JC['src'], train_JC['tgt']):\n",
    "    dyad = list(set([i, j]))\n",
    "    focal.append(dyad[0])\n",
    "    alter.append(dyad[1])\n",
    "\n",
    "\n",
    "train_JC.loc[:, 'src'] = focal\n",
    "train_JC.loc[:, 'tgt'] = alter\n",
    "\n",
    "del (focal, alter)"
   ]
  },
  {
   "cell_type": "code",
   "execution_count": 36,
   "metadata": {
    "ExecuteTime": {
     "end_time": "2019-12-20T09:40:19.072606Z",
     "start_time": "2019-12-20T09:40:16.618915Z"
    }
   },
   "outputs": [],
   "source": [
    "train_JC.loc[:,'count'] = 1\n",
    "\n",
    "train_JC = train_JC.groupby(['src', 'tgt'], as_index= False)['count'].aggregate(np.sum)\n",
    "\n",
    "train_JC.loc[:,'T/F'] = 1"
   ]
  },
  {
   "cell_type": "code",
   "execution_count": 37,
   "metadata": {
    "ExecuteTime": {
     "end_time": "2019-12-20T09:40:21.998623Z",
     "start_time": "2019-12-20T09:40:20.260186Z"
    }
   },
   "outputs": [],
   "source": [
    "JC = pd.merge(JC,train_JC, on = ['src','tgt'], how = 'left')\n",
    "JC = JC.fillna(0)\n",
    "JC.loc[:,'prob'] = JC['count'] / np.sum(JC['count']) \n",
    "JC = JC.fillna(0)\n",
    "JC.loc[:, 'count'] = JC['count'] + 1"
   ]
  },
  {
   "cell_type": "code",
   "execution_count": null,
   "metadata": {},
   "outputs": [],
   "source": [
    "# cretae the chart\n",
    "fig = plt.figure(figsize=(8, 7))\n",
    "# populate the figure\n",
    "ax = fig.add_subplot(1, 1, 1)\n",
    "\n",
    "\n",
    "# plot the data\n",
    "ax.scatter(JC['J_C'] , JC['prob'] , marker='o', alpha=0.5)\n",
    "\n",
    "# axes\n",
    "#ax.set_xscale('log')\n",
    "#ax.set_yscale('log')\n",
    "#ax.set_ylim(0.00001, 1)\n",
    "ax.set_xlabel('Cosine Index',  fontsize = 12)\n",
    "ax.set_ylabel('Probability',  fontsize = 12)\n",
    "ax.set_ylim(0,0.0050)\n",
    "ax.set_title(\"Probability of connections basis Cosine Index of two nodes\", fontsize = 12)\n",
    "# show the plot\n",
    "plt.show()"
   ]
  },
  {
   "cell_type": "markdown",
   "metadata": {},
   "source": [
    "## 7. PageRank Algorithm\n",
    "> PageRank computes a ranking of the nodes in the graph G based on the structure of the incoming links. It was originally designed as an algorithm to rank web pages. [Source](https://en.wikipedia.org/wiki/PageRank)\n",
    "\n",
    "PageRank node algorithm helps to identify the *Authority* nodes in the graph."
   ]
  },
  {
   "cell_type": "markdown",
   "metadata": {
    "ExecuteTime": {
     "end_time": "2020-06-29T09:51:46.100900Z",
     "start_time": "2020-06-29T09:51:46.093904Z"
    }
   },
   "source": [
    "**Result:**\n",
    "\n",
    "By observing the graph, we can infer that there is *positive correlation between PageRank coefficient of a node and the probability of getting new incoming connection.*"
   ]
  },
  {
   "cell_type": "code",
   "execution_count": null,
   "metadata": {
    "ExecuteTime": {
     "start_time": "2019-12-20T09:41:09.046Z"
    }
   },
   "outputs": [],
   "source": [
    "PRG = nx.from_pandas_edgelist(test,source='src', target='tgt' , create_using=nx.DiGraph())\n"
   ]
  },
  {
   "cell_type": "code",
   "execution_count": 69,
   "metadata": {
    "ExecuteTime": {
     "end_time": "2019-12-19T10:08:07.484808Z",
     "start_time": "2019-12-19T10:07:23.128977Z"
    }
   },
   "outputs": [],
   "source": [
    "xx = nx.pagerank(PRG)"
   ]
  },
  {
   "cell_type": "code",
   "execution_count": 71,
   "metadata": {
    "ExecuteTime": {
     "end_time": "2019-12-19T10:08:28.600463Z",
     "start_time": "2019-12-19T10:08:20.207982Z"
    }
   },
   "outputs": [],
   "source": [
    "PR = pd.DataFrame.from_records([xx])\n",
    "PR = PR.T\n",
    "PR.reset_index(inplace=True)\n",
    "PR = PR.rename(columns = {'index' : 'tgt', 0 :'PR_Index'})"
   ]
  },
  {
   "cell_type": "code",
   "execution_count": 72,
   "metadata": {
    "ExecuteTime": {
     "end_time": "2019-12-19T10:08:29.629839Z",
     "start_time": "2019-12-19T10:08:29.440674Z"
    },
    "scrolled": true
   },
   "outputs": [],
   "source": [
    "train_PR = train.copy()"
   ]
  },
  {
   "cell_type": "code",
   "execution_count": 73,
   "metadata": {
    "ExecuteTime": {
     "end_time": "2019-12-19T10:08:32.378692Z",
     "start_time": "2019-12-19T10:08:30.607123Z"
    }
   },
   "outputs": [],
   "source": [
    "train_PR = train_PR.drop(columns = 'src')\n",
    "train_PR.loc[:,'count'] = 1\n",
    "train_PR = train_PR.groupby('tgt', as_index=False)['count'].aggregate(np.sum)"
   ]
  },
  {
   "cell_type": "code",
   "execution_count": 74,
   "metadata": {
    "ExecuteTime": {
     "end_time": "2019-12-19T10:08:33.258993Z",
     "start_time": "2019-12-19T10:08:33.065597Z"
    }
   },
   "outputs": [],
   "source": [
    "PR = pd.merge(PR, train_PR, on='tgt', how='left')\n",
    "PR = PR.fillna(0)\n",
    "PR.loc[:, 'count'] = PR['count'] + 1"
   ]
  },
  {
   "cell_type": "code",
   "execution_count": 75,
   "metadata": {
    "ExecuteTime": {
     "end_time": "2019-12-19T10:08:34.794676Z",
     "start_time": "2019-12-19T10:08:34.776474Z"
    }
   },
   "outputs": [],
   "source": [
    "PR.loc[:,'prob'] = PR['count'] / np.sum(PR['count']) "
   ]
  },
  {
   "cell_type": "code",
   "execution_count": null,
   "metadata": {},
   "outputs": [],
   "source": [
    "# cretae the chart\n",
    "fig = plt.figure(figsize=(8, 7))\n",
    "\n",
    "# populate the figure\n",
    "ax = fig.add_subplot(1, 1, 1)\n",
    "\n",
    "\n",
    "# plot the data\n",
    "ax.scatter(PR['PR_Index'] , PR['prob'] , marker='o', alpha=0.5)\n",
    "\n",
    "# axes\n",
    "#ax.set_xscale('log')\n",
    "#ax.set_yscale('log')\n",
    "#ax.set_ylim(0.00001, 1)\n",
    "ax.set_xlabel('Page Rank Index')\n",
    "ax.set_ylabel('Probability')\n",
    "\n",
    "ax.set_xlim(0,0.01)\n",
    "ax.set_ylim(0,0.01)\n",
    "ax.set_title(\"Probability of future connections basis Page Rank of a node\", fontsize = 12)\n",
    "\n",
    "# show the plot\n",
    "plt.show()"
   ]
  },
  {
   "cell_type": "markdown",
   "metadata": {},
   "source": [
    "## 8. Kossinett-Watts Model\n",
    "Kossinett-Watts Model is a [report](https://science.sciencemag.org/content/311/5757/88/tab-article-info) by Gueorgi Kossinets and Duncan J. Watts explaining how shared activities and affiliations leads to the possibility of new tie formation"
   ]
  },
  {
   "cell_type": "markdown",
   "metadata": {},
   "source": [
    "Note:\n",
    "- *As per our knowledge, there is not a dedicated command or library in NetworkX or Graph-Tool that can help us to implement this research on our network. Therefore we have used pure python (using numpy and pandas) to explore this phenomenon. The code wouldn't have been made possible without the help of our professor [Simone Santoni](https://www.cass.city.ac.uk/faculties-and-research/experts/simone-santoni)*.\n",
    "- *Due to computational limitation, we couldn't run the code on our machine and therefore the result has not been attached.*\n",
    "- *A tiny subset of data showed interesting result but it wouldn't be wise to comment on such small sample of data.*\\\n",
    "- *I have also not attached the code because as mentioned earlier it is not purely my work.*"
   ]
  },
  {
   "cell_type": "markdown",
   "metadata": {},
   "source": [
    "## 9. Impact of shared connections on community formation\n",
    "\n",
    "It is interesting to understand how a shared connection influence user participation into different threads and thus leading to get recognised as a part of that new interaction community.\n",
    "\n",
    "For example, at time T0, A and B are connected, and B and C are also connected while A and C both belongs to different communities. Now, at time T1, how the probability of A getting recognised as part of C's community and vice a versa increases with the increase in numbers of shared connection.\n"
   ]
  },
  {
   "cell_type": "markdown",
   "metadata": {},
   "source": [
    "**Algorithm**\n",
    "\n",
    "We first calculated cliques with more than 4 nodes (on Undirected graph) in test data and train data. The reason we chose clique community detection algorithm was, it gives us overlapping communities too, i.e. A can be a part of community 1 and 2 at the same time.\n",
    "\n",
    "I then prepared a database with two columns where each node had its community node adjacent to it. I imported this data from dictionary to make sure we do not double count connections, i.e. A and B should be like B and A. With this, we label the connection as \"0\" for test data and \"1\" for train data.\n",
    "\n",
    "With this data frame, I implement the example of how the number of shared connections does (community member at time 0) impacts the new connection (node of a different community at time T1) which is nothing but Kossinett-Watts Model."
   ]
  },
  {
   "cell_type": "markdown",
   "metadata": {},
   "source": [
    "**Result**\n",
    "\n",
    "We plotted the following two graphs.\n",
    "\n",
    "1. First graph shows the structure of old and new communities. By observation we can see that there are many if not several nodes that have both purple and yellow edges which indicates that the probability of few nodes at time T0 to get identifies into a different community at time T1 is high. *But this chart doesn't show the impact of shared neighbours on being identifies as a member of new community*\n",
    "\n",
    "2. For this, our second graph shows that the probability of getting recognised into a new community at time T1 increases as the number of shared nodes increases.\n"
   ]
  },
  {
   "cell_type": "markdown",
   "metadata": {},
   "source": [
    "*Note*\n",
    "- *We have sliced the K at 21 as it had a very volatile behaviour after this value.*\n",
    "- *Data has been sliced to get only first 100 days of interaction.*\n"
   ]
  },
  {
   "cell_type": "code",
   "execution_count": null,
   "metadata": {},
   "outputs": [],
   "source": [
    "a = nx.find_cliques(JCG)\n",
    "i=0\n",
    "newdict = dict()\n",
    "# For each clique, print the members and also print the total number of communities\n",
    "for clique in a:\n",
    "    if len(clique)>=4:\n",
    "        i+=1\n",
    "        newdict.update({i:clique})\n",
    "\n",
    "        \n",
    "\n",
    "edges = set(chain.from_iterable([tuple(sorted(pair)) for pair \n",
    "            in combinations(clique, 2)] for clique in newdict.values()))\n",
    "\n",
    "\n",
    "edges = list(edges)\n",
    "edges\n",
    "base = pd.DataFrame(edges, columns = ['n1', 'n2'])\n",
    "base.loc[:, 'm'] = 0\n",
    "\n",
    "JCG_1 = nx.from_pandas_edgelist(train,source='src', target='tgt')\n",
    "\n",
    "\n",
    "a1 = nx.find_cliques(JCG_1)\n",
    "i=0\n",
    "newdict1 = dict()\n",
    "# For each clique, print the members and also print the total number of communities\n",
    "for clique in a1:\n",
    "    if len(clique)>=4:\n",
    "        i+=1\n",
    "        newdict1.update({i:clique})\n",
    "        \n",
    "        \n",
    "edges1 = set(chain.from_iterable([tuple(sorted(pair)) for pair \n",
    "            in combinations(clique, 2)] for clique in newdict1.values()))\n",
    "\n",
    "\n",
    "edges1 = list(edges1)\n",
    "top = pd.DataFrame(edges1, columns = ['n1', 'n2'])\n",
    "top.loc[:, 'm'] = 1\n",
    "\n",
    "\n",
    "baseG = nx.from_pandas_edgelist(base,source='n1', target='n2' , edge_attr='m')\n",
    "topG = nx.from_pandas_edgelist(top,source='n1', target='n2' , edge_attr='m')\n",
    "tot_commG = nx.compose(baseG, topG)"
   ]
  },
  {
   "cell_type": "code",
   "execution_count": null,
   "metadata": {},
   "outputs": [],
   "source": [
    "fig = plt.figure(figsize=(100,100))\n",
    "\n",
    "# populate the figure\n",
    "ax = fig.add_subplot(1, 1, 1)\n",
    "\n",
    "\n",
    "total_edges = tot_commG.edges()\n",
    "colors = [tot_commG[u][v]['m'] for u,v in total_edges]\n",
    "pos = nx.spring_layout(tot_commG)\n",
    "nx.draw_networkx(tot_commG, pos=pos, with_labels=False, node_size=2, font_size = 5, edge_color = colors , node_color = 'k',\n",
    "                ax = ax, alpha = 0.3 )\n",
    "ax.set_title('Cliques with more than three connections', fontsize = 100)\n",
    "#ax.annotate('Purple edge inidcates old community\\nYellow edge inidcates new community', xy = (0,0))\n",
    "plt.axis('off')\n",
    "plt.show()\n",
    "plt.close()"
   ]
  },
  {
   "cell_type": "markdown",
   "metadata": {},
   "source": [
    "### Kossinett-Watts Model is community formation"
   ]
  },
  {
   "cell_type": "code",
   "execution_count": null,
   "metadata": {},
   "outputs": [],
   "source": [
    "tot_comm = pd.concat([base,top]) \n",
    "\n",
    "df = tot_comm.copy()\n",
    "df = df.rename(columns={\"n1\": \"src\", \"n2\": \"tgt\"})\n",
    "\n",
    "# sources\n",
    "n = list(set(df['src']))\n",
    "\n",
    "# targets\n",
    "n.extend(list(set(df['tgt'])))\n",
    "\n",
    "# collapse sources and targets\n",
    "n = list(set(n))\n",
    "\n",
    "# get a data frame whose index is constant and equal to zero\n",
    "n = pd.DataFrame({'n': n}, index=np.repeat(0, len(n)))\n",
    "\n",
    "\n",
    "# %% get unique timespans\n",
    "# -----------------------\n",
    "\n",
    "\"\"\"\n",
    "Related to the previous point, we need the set of unique periods.\n",
    "\"\"\"\n",
    "\n",
    "# unique months\n",
    "m = list(set(df['m']))\n",
    "m = pd.DataFrame({'m': m}, index=np.repeat(0, len(m)))\n",
    "\n",
    "# node-node cartesian product\n",
    "rs = pd.merge(n, n, left_index=True, right_index=True)\n",
    "\n",
    "\n",
    "# risk set-timespan cartesian product\n",
    "rs = pd.merge(rs, m, left_index=True, right_index=True)\n",
    "\n",
    "rs = rs.loc[rs['n_x'] < rs['n_y']]\n",
    "\n",
    "\n",
    "# group by\n",
    "gr = df.groupby(['src', 'tgt', 'm'], as_index=False)\n",
    "df.loc[:, 'ml_cnt'] = 1\n",
    "df = pd.DataFrame(gr['ml_cnt'].agg(np.size))\n",
    "\n",
    "focal, alter = [], []\n",
    "\n",
    "for i, j in zip(df['src'], df['tgt']):\n",
    "    dyad = list(set([i, j]))\n",
    "    focal.append(dyad[0])\n",
    "    alter.append(dyad[1])\n",
    "\n",
    "\n",
    "df.loc[:, 'n_x'] = focal\n",
    "df.loc[:, 'n_y'] = alter\n",
    "\n",
    "del (focal, alter)\n",
    "\n",
    "\n",
    "gr = df.groupby(['n_x', 'n_y', 'm'])\n",
    "df.loc[:, 'tie'] = 1\n",
    "df.loc[:, 'tie'] = gr['tie'].transform(np.count_nonzero)\n",
    "\n",
    "\n",
    "df.set_index(['n_x', 'n_y', 'm'], inplace=True)\n",
    "df.sort_index(inplace=True)\n",
    "gr = df.groupby(level=['n_x', 'n_y', 'm'])\n",
    "ct = pd.DataFrame(gr['tie'].aggregate(np.max))\n",
    "gr = ct.groupby(level=['n_x', 'n_y'])\n",
    "ct = pd.DataFrame(gr['tie'].aggregate(np.cumsum))\n",
    "ct.rename(columns={'tie': 'cum_ties'}, inplace=True)\n",
    "\n",
    "\n",
    "# reset the index of the data frame\n",
    "ct.reset_index(inplace=True)\n",
    "\n",
    "# merge data on actual and potential ties\n",
    "g = pd.merge(rs, ct, on=['n_x', 'n_y', 'm'], how='left')\n",
    "\n",
    "# replace NaNs\n",
    "g.loc[g['cum_ties'].isnull(), 'cum_ties'] = 0\n",
    "\n",
    "# create categorical variable\n",
    "g.loc[:, 'tie'] = 0\n",
    "g.loc[g['cum_ties'] > 0, 'tie'] = 1\n"
   ]
  },
  {
   "cell_type": "code",
   "execution_count": null,
   "metadata": {},
   "outputs": [],
   "source": [
    "nodes = n['n'].values.tolist()\n",
    "months = m['m'].values.tolist()\n",
    "\n",
    "# list to populate\n",
    "alr = []\n",
    "\n",
    "# reset indices\n",
    "df.reset_index(inplace=True)\n",
    "\n",
    "# for loop\n",
    "for i in nodes:\n",
    "    for j in months:\n",
    "        to_append = df.loc[(df['src'] == i) & (df['m'] <= j),\n",
    "                           'tgt'].values.tolist()\n",
    "        to_append = list(set(to_append))\n",
    "        alr.append([i, j, to_append])\n",
    "\n",
    "# get a df out of the list\n",
    "alr = pd.DataFrame(alr, columns=['n', 'm', 'alr'])\n",
    "\n",
    "\n",
    "# let's start with n_x\n",
    "alr.loc[:, 'n_x'] = alr['n']\n",
    "g = pd.merge(g, alr[['n_x', 'm', 'alr']], on=['n_x', 'm'], how='left')\n",
    "g.rename(columns={'alr': 'n_x_alr'}, inplace=True)\n",
    "\n",
    "# let's do the same with n_y\n",
    "alr.loc[:, 'n_y'] = alr['n']\n",
    "g = pd.merge(g, alr[['n_y', 'm', 'alr']], on=['n_y', 'm'], how='left')\n",
    "g.rename(columns={'alr': 'n_y_alr'}, inplace=True)\n",
    "\n",
    "\n",
    "# shared alters\n",
    "shared_alters = [list(set(g.loc[i, 'n_x_alr']) & set(g.loc[i, 'n_y_alr'])) for i in g.index]\n",
    "\n",
    "\n",
    "\n",
    "# count of shared alters\n",
    "k = [len(i) for i in shared_alters]\n",
    "\n",
    "# get a data frame\n",
    "k = pd.DataFrame({'shared_alters': shared_alters, 'k': k}, index=g.index)\n",
    "\n",
    "\n",
    "g = pd.concat([g, k], axis=1)\n",
    "\n",
    "# drop redundant cols\n",
    "g.drop(['n_x_alr', 'n_y_alr'], axis=1, inplace=True)\n",
    "\n",
    "\n",
    "# set and sort data\n",
    "g.set_index(['n_x', 'n_y', 'm'], inplace=True)\n",
    "g.sort_index(inplace=True)\n",
    "\n",
    "\n",
    "# adjust cum_ties field\n",
    "g.loc[g['cum_ties'] > 0, 'tie'] = 1\n",
    "g.loc[:, 'cum_ties'] = g.groupby(level=['n_x', 'n_y'])['tie'].transform(np.cumsum)\n",
    "\n",
    "# housekeeping - remove redundant col\n",
    "g.drop('shared_alters', axis=1, inplace=True)\n",
    "\n",
    "\n",
    "g.loc[:, 'tie_lag'] = g.groupby(level=['n_x', 'n_y'])['tie'].shift()\n",
    "g.loc[g['tie_lag'].isnull(), 'tie_lag'] = 0\n",
    "\n",
    "# locate tie formation events\n",
    "g.loc[:, 'tie_frm'] = 0\n",
    "select = (g['cum_ties'] == 1) & (g['tie_lag'] == 0) & (g['tie'] == 1)\n",
    "g.loc[select, 'tie_frm'] = 1\n",
    "\n",
    "\n",
    "# filter-out pairs of connected nodes\n",
    "g = g.loc[(g['tie'] == 0) | (g['tie_frm'] == 1)]\n",
    "\n",
    "# aggregate data around k-m pairs\n",
    "g.reset_index(inplace=True)\n",
    "g.loc[:, 'tie_cnt'] = 1\n",
    "\n",
    "\n",
    "t = g.groupby(['k', 'm'], as_index=False)[['tie_frm', 'tie_cnt']].agg(np.sum)\n",
    "\n",
    "\n",
    "# get T(k)\n",
    "t.loc[:, 'tk'] = t['tie_frm'] / t['tie_cnt']\n",
    "\n",
    "# housekeeping\n",
    "t = t.loc[t['m'] <= 16]\n",
    "\n",
    "\n",
    "t = t.loc[t['k'] <= 21]"
   ]
  },
  {
   "cell_type": "code",
   "execution_count": 60,
   "metadata": {
    "scrolled": false
   },
   "outputs": [
    {
     "name": "stdout",
     "output_type": "stream",
     "text": [
      "No of nodes identified: 3666\n"
     ]
    }
   ],
   "source": [
    "print('No of nodes identified:', len(n))"
   ]
  },
  {
   "cell_type": "markdown",
   "metadata": {},
   "source": [
    "### Probability of getting recognised into a new community at time T1 with increment in shared connections"
   ]
  },
  {
   "cell_type": "code",
   "execution_count": 98,
   "metadata": {},
   "outputs": [
    {
     "data": {
      "image/png": "[encoded data removed]",
      "text/plain": [
       "<Figure size 864x720 with 1 Axes>"
      ]
     },
     "metadata": {
      "needs_background": "light"
     },
     "output_type": "display_data"
    }
   ],
   "source": [
    "\n",
    "import matplotlib.pyplot as plt\n",
    "import matplotlib as mpl\n",
    "plt.style.use('seaborn-bright')\n",
    "\n",
    "\n",
    "## explore the distribution of pairs over k\n",
    "t.groupby(['k', 'm'])['tie_cnt'].aggregate(np.sum)\n",
    "\n",
    "\n",
    "fig = plt.figure(figsize=(12,10))\n",
    "\n",
    "# create chart\n",
    "ax = fig.add_subplot(1, 1, 1)\n",
    "#\n",
    "## colors for individual lines\n",
    "n = 1 # months we focus on\n",
    "c = np.arange(0, n, 1)\n",
    "cmap = mpl.cm.get_cmap('viridis', n)\n",
    "#\n",
    "## plot the data\n",
    "for i in np.arange(0, 1, 1):\n",
    "    k = t.loc[t['m'] == i, 'k']\n",
    "    tk = t.loc[t['m'] == i, 'tk']\n",
    "    label = str(i)\n",
    "    ax.plot(k, tk, c=cmap(i)) # label=label)\n",
    "#\n",
    "#\n",
    "## axes\n",
    "ax.set_xlabel('$k$', fontsize = 14)\n",
    "ax.set_ylabel('$T(k)$', fontsize = 14)\n",
    "#\n",
    "## grid\n",
    "ax.grid(True, ls='--')\n",
    "#\n",
    "## colorbar\n",
    "#d = ax.scatter(c, c, marker='', c=c, cmap=cmap)\n",
    "#fig.colorbar(d)\n",
    "#\n",
    "## legend\n",
    "#ax.legend(loc='best')\n",
    "#\n",
    "## show the plot\n",
    "plt.show()"
   ]
  }
 ],
 "metadata": {
  "kernelspec": {
   "display_name": "Python 3",
   "language": "python",
   "name": "python3"
  },
  "language_info": {
   "codemirror_mode": {
    "name": "ipython",
    "version": 3
   },
   "file_extension": ".py",
   "mimetype": "text/x-python",
   "name": "python",
   "nbconvert_exporter": "python",
   "pygments_lexer": "ipython3",
   "version": "3.7.4"
  }
 },
 "nbformat": 4,
 "nbformat_minor": 2
}
